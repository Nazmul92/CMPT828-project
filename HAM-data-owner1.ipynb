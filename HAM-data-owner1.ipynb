{
 "cells": [
  {
   "cell_type": "code",
   "execution_count": 1,
   "id": "4e840cae",
   "metadata": {},
   "outputs": [],
   "source": [
    "import syft as sy"
   ]
  },
  {
   "cell_type": "markdown",
   "id": "d9e40210",
   "metadata": {},
   "source": [
    "# Create duet session"
   ]
  },
  {
   "cell_type": "code",
   "execution_count": 2,
   "id": "53b0086f",
   "metadata": {},
   "outputs": [
    {
     "name": "stdout",
     "output_type": "stream",
     "text": [
      "🎤  🎸  ♪♪♪ Starting Duet ♫♫♫  🎻  🎹\n",
      "\n",
      "♫♫♫ >\u001b[93m DISCLAIMER\u001b[0m: \u001b[1mDuet is an experimental feature currently in beta.\n",
      "♫♫♫ > Use at your own risk.\n",
      "\u001b[0m\n",
      "\u001b[1m\n",
      "    > ❤️ \u001b[91mLove\u001b[0m \u001b[92mDuet\u001b[0m? \u001b[93mPlease\u001b[0m \u001b[94mconsider\u001b[0m \u001b[95msupporting\u001b[0m \u001b[91mour\u001b[0m \u001b[93mcommunity!\u001b[0m\n",
      "    > https://github.com/sponsors/OpenMined\u001b[1m\n",
      "\n",
      "♫♫♫ > Punching through firewall to OpenGrid Network Node at:\n",
      "♫♫♫ > http://ec2-18-218-7-180.us-east-2.compute.amazonaws.com:5000\n",
      "♫♫♫ >\n",
      "♫♫♫ > ...waiting for response from OpenGrid Network... \n",
      "♫♫♫ > \u001b[92mDONE!\u001b[0m\n",
      "\n",
      "♫♫♫ > \u001b[95mSTEP 1:\u001b[0m Send the following code to your Duet Partner!\n",
      "\n",
      "import syft as sy\n",
      "duet = sy.join_duet(loopback=True)\n",
      "\n",
      "♫♫♫ > Connecting...\n",
      "\n",
      "♫♫♫ > \u001b[92mCONNECTED!\u001b[0m\n",
      "\n",
      "♫♫♫ > DUET LIVE STATUS  *  Objects: 0  Requests: 0   Messages: 1  Request Handlers: 0                                \n",
      "♫♫♫ > DUET LIVE STATUS  -  Objects: 0  Requests: 0   Messages: 23  Request Handlers: 1                                \r"
     ]
    }
   ],
   "source": [
    "duet = sy.launch_duet(loopback=True)"
   ]
  },
  {
   "cell_type": "markdown",
   "id": "237c5de7",
   "metadata": {},
   "source": [
    "# Import library"
   ]
  },
  {
   "cell_type": "code",
   "execution_count": 3,
   "id": "d0a8a9a4",
   "metadata": {},
   "outputs": [],
   "source": [
    "import torch\n",
    "import numpy as np\n",
    "import torch as th\n",
    "import pandas as pd\n",
    "from PIL import Image\n",
    "import imageio.v2 as imageio\n",
    "from mpl_toolkits.mplot3d import Axes3D\n",
    "from sklearn.model_selection import train_test_split\n",
    "from sklearn.preprocessing import LabelEncoder"
   ]
  },
  {
   "cell_type": "markdown",
   "id": "60b91fc0",
   "metadata": {},
   "source": [
    "# Import metadata"
   ]
  },
  {
   "cell_type": "code",
   "execution_count": 4,
   "id": "f62881c3",
   "metadata": {},
   "outputs": [],
   "source": [
    "df =pd.read_csv('HAM10000_metadata.csv')"
   ]
  },
  {
   "cell_type": "code",
   "execution_count": 5,
   "id": "eaf9b60b",
   "metadata": {},
   "outputs": [
    {
     "data": {
      "text/plain": [
       "nv       6705\n",
       "mel      1113\n",
       "bkl      1099\n",
       "bcc       514\n",
       "akiec     327\n",
       "vasc      142\n",
       "df        115\n",
       "Name: dx, dtype: int64"
      ]
     },
     "execution_count": 5,
     "metadata": {},
     "output_type": "execute_result"
    }
   ],
   "source": [
    "df['dx'].value_counts()"
   ]
  },
  {
   "cell_type": "code",
   "execution_count": 5,
   "id": "81d18930",
   "metadata": {},
   "outputs": [],
   "source": [
    "target = ['akiec', 'bcc', 'bkl', 'df', 'mel', 'nv', 'vasc']"
   ]
  },
  {
   "cell_type": "markdown",
   "id": "5d56f518",
   "metadata": {},
   "source": [
    "# Create data subset"
   ]
  },
  {
   "cell_type": "code",
   "execution_count": 6,
   "id": "90392c8a",
   "metadata": {},
   "outputs": [],
   "source": [
    "subset_metadata_a = df.sample(frac=0.2, random_state=42)   "
   ]
  },
  {
   "cell_type": "code",
   "execution_count": 7,
   "id": "d747b7c9",
   "metadata": {},
   "outputs": [],
   "source": [
    "num_samples_per_label_a = 300                                                 ## 300 sample for each class\n",
    "balanced_sub_a = pd.DataFrame()\n",
    "for label in target:\n",
    "    label_metadata_a = subset_metadata_a[subset_metadata_a['dx'] == label]\n",
    "    label_samples_a = label_metadata_a.sample(n=num_samples_per_label_a, random_state=42, replace = True)\n",
    "    balanced_sub_a = pd.concat([balanced_sub_a, label_samples_a])"
   ]
  },
  {
   "cell_type": "code",
   "execution_count": 8,
   "id": "9db32ece",
   "metadata": {},
   "outputs": [
    {
     "data": {
      "text/html": [
       "<div>\n",
       "<style scoped>\n",
       "    .dataframe tbody tr th:only-of-type {\n",
       "        vertical-align: middle;\n",
       "    }\n",
       "\n",
       "    .dataframe tbody tr th {\n",
       "        vertical-align: top;\n",
       "    }\n",
       "\n",
       "    .dataframe thead th {\n",
       "        text-align: right;\n",
       "    }\n",
       "</style>\n",
       "<table border=\"1\" class=\"dataframe\">\n",
       "  <thead>\n",
       "    <tr style=\"text-align: right;\">\n",
       "      <th></th>\n",
       "      <th>lesion_id</th>\n",
       "      <th>image_id</th>\n",
       "      <th>dx</th>\n",
       "      <th>dx_type</th>\n",
       "      <th>age</th>\n",
       "      <th>sex</th>\n",
       "      <th>localization</th>\n",
       "    </tr>\n",
       "  </thead>\n",
       "  <tbody>\n",
       "    <tr>\n",
       "      <th>9707</th>\n",
       "      <td>HAM_0005931</td>\n",
       "      <td>ISIC_0031191</td>\n",
       "      <td>akiec</td>\n",
       "      <td>histo</td>\n",
       "      <td>60.0</td>\n",
       "      <td>male</td>\n",
       "      <td>lower extremity</td>\n",
       "    </tr>\n",
       "    <tr>\n",
       "      <th>9729</th>\n",
       "      <td>HAM_0007601</td>\n",
       "      <td>ISIC_0032437</td>\n",
       "      <td>akiec</td>\n",
       "      <td>histo</td>\n",
       "      <td>65.0</td>\n",
       "      <td>male</td>\n",
       "      <td>upper extremity</td>\n",
       "    </tr>\n",
       "    <tr>\n",
       "      <th>9924</th>\n",
       "      <td>HAM_0006434</td>\n",
       "      <td>ISIC_0030142</td>\n",
       "      <td>akiec</td>\n",
       "      <td>histo</td>\n",
       "      <td>60.0</td>\n",
       "      <td>male</td>\n",
       "      <td>lower extremity</td>\n",
       "    </tr>\n",
       "    <tr>\n",
       "      <th>9936</th>\n",
       "      <td>HAM_0006887</td>\n",
       "      <td>ISIC_0029500</td>\n",
       "      <td>akiec</td>\n",
       "      <td>histo</td>\n",
       "      <td>45.0</td>\n",
       "      <td>male</td>\n",
       "      <td>face</td>\n",
       "    </tr>\n",
       "    <tr>\n",
       "      <th>9888</th>\n",
       "      <td>HAM_0005231</td>\n",
       "      <td>ISIC_0025247</td>\n",
       "      <td>akiec</td>\n",
       "      <td>histo</td>\n",
       "      <td>70.0</td>\n",
       "      <td>male</td>\n",
       "      <td>lower extremity</td>\n",
       "    </tr>\n",
       "    <tr>\n",
       "      <th>...</th>\n",
       "      <td>...</td>\n",
       "      <td>...</td>\n",
       "      <td>...</td>\n",
       "      <td>...</td>\n",
       "      <td>...</td>\n",
       "      <td>...</td>\n",
       "      <td>...</td>\n",
       "    </tr>\n",
       "    <tr>\n",
       "      <th>2453</th>\n",
       "      <td>HAM_0001038</td>\n",
       "      <td>ISIC_0024706</td>\n",
       "      <td>vasc</td>\n",
       "      <td>consensus</td>\n",
       "      <td>50.0</td>\n",
       "      <td>male</td>\n",
       "      <td>trunk</td>\n",
       "    </tr>\n",
       "    <tr>\n",
       "      <th>2455</th>\n",
       "      <td>HAM_0001537</td>\n",
       "      <td>ISIC_0026467</td>\n",
       "      <td>vasc</td>\n",
       "      <td>consensus</td>\n",
       "      <td>55.0</td>\n",
       "      <td>male</td>\n",
       "      <td>lower extremity</td>\n",
       "    </tr>\n",
       "    <tr>\n",
       "      <th>2455</th>\n",
       "      <td>HAM_0001537</td>\n",
       "      <td>ISIC_0026467</td>\n",
       "      <td>vasc</td>\n",
       "      <td>consensus</td>\n",
       "      <td>55.0</td>\n",
       "      <td>male</td>\n",
       "      <td>lower extremity</td>\n",
       "    </tr>\n",
       "    <tr>\n",
       "      <th>2406</th>\n",
       "      <td>HAM_0003480</td>\n",
       "      <td>ISIC_0032890</td>\n",
       "      <td>vasc</td>\n",
       "      <td>consensus</td>\n",
       "      <td>70.0</td>\n",
       "      <td>female</td>\n",
       "      <td>lower extremity</td>\n",
       "    </tr>\n",
       "    <tr>\n",
       "      <th>2447</th>\n",
       "      <td>HAM_0006138</td>\n",
       "      <td>ISIC_0026713</td>\n",
       "      <td>vasc</td>\n",
       "      <td>consensus</td>\n",
       "      <td>35.0</td>\n",
       "      <td>female</td>\n",
       "      <td>hand</td>\n",
       "    </tr>\n",
       "  </tbody>\n",
       "</table>\n",
       "<p>2100 rows × 7 columns</p>\n",
       "</div>"
      ],
      "text/plain": [
       "        lesion_id      image_id     dx    dx_type   age     sex  \\\n",
       "9707  HAM_0005931  ISIC_0031191  akiec      histo  60.0    male   \n",
       "9729  HAM_0007601  ISIC_0032437  akiec      histo  65.0    male   \n",
       "9924  HAM_0006434  ISIC_0030142  akiec      histo  60.0    male   \n",
       "9936  HAM_0006887  ISIC_0029500  akiec      histo  45.0    male   \n",
       "9888  HAM_0005231  ISIC_0025247  akiec      histo  70.0    male   \n",
       "...           ...           ...    ...        ...   ...     ...   \n",
       "2453  HAM_0001038  ISIC_0024706   vasc  consensus  50.0    male   \n",
       "2455  HAM_0001537  ISIC_0026467   vasc  consensus  55.0    male   \n",
       "2455  HAM_0001537  ISIC_0026467   vasc  consensus  55.0    male   \n",
       "2406  HAM_0003480  ISIC_0032890   vasc  consensus  70.0  female   \n",
       "2447  HAM_0006138  ISIC_0026713   vasc  consensus  35.0  female   \n",
       "\n",
       "         localization  \n",
       "9707  lower extremity  \n",
       "9729  upper extremity  \n",
       "9924  lower extremity  \n",
       "9936             face  \n",
       "9888  lower extremity  \n",
       "...               ...  \n",
       "2453            trunk  \n",
       "2455  lower extremity  \n",
       "2455  lower extremity  \n",
       "2406  lower extremity  \n",
       "2447             hand  \n",
       "\n",
       "[2100 rows x 7 columns]"
      ]
     },
     "execution_count": 8,
     "metadata": {},
     "output_type": "execute_result"
    }
   ],
   "source": [
    "balanced_sub_a"
   ]
  },
  {
   "cell_type": "code",
   "execution_count": 9,
   "id": "6b9b93d0",
   "metadata": {},
   "outputs": [],
   "source": [
    "sub_a_class_count = balanced_sub_a['dx'].value_counts()"
   ]
  },
  {
   "cell_type": "code",
   "execution_count": 10,
   "id": "7bbcd509",
   "metadata": {},
   "outputs": [
    {
     "data": {
      "text/plain": [
       "akiec    300\n",
       "bcc      300\n",
       "bkl      300\n",
       "df       300\n",
       "mel      300\n",
       "nv       300\n",
       "vasc     300\n",
       "Name: dx, dtype: int64"
      ]
     },
     "execution_count": 10,
     "metadata": {},
     "output_type": "execute_result"
    }
   ],
   "source": [
    "sub_a_class_count"
   ]
  },
  {
   "cell_type": "code",
   "execution_count": 11,
   "id": "980e318a",
   "metadata": {},
   "outputs": [],
   "source": [
    "size = (64, 64)\n",
    "images_sub_a = []\n",
    "for i, row in balanced_sub_a.iterrows():\n",
    "    img_a = imageio.imread('HAM_data//HAM10000/' + row['image_id'] + '.jpg')\n",
    "    resized_img = np.array(Image.fromarray(img_a).resize(size))\n",
    "    images_sub_a.append(resized_img)"
   ]
  },
  {
   "cell_type": "code",
   "execution_count": 12,
   "id": "e22f524d",
   "metadata": {},
   "outputs": [
    {
     "data": {
      "text/plain": [
       "2100"
      ]
     },
     "execution_count": 12,
     "metadata": {},
     "output_type": "execute_result"
    }
   ],
   "source": [
    "len(images_sub_a) "
   ]
  },
  {
   "cell_type": "code",
   "execution_count": 13,
   "id": "71252a28",
   "metadata": {},
   "outputs": [],
   "source": [
    "images_and_labels_sub_a = []\n",
    "for i, row in balanced_sub_a.iterrows():\n",
    "    img_b = imageio.imread('HAM_data/HAM10000/' + row['image_id'] + '.jpg')\n",
    "    resized_img = np.array(Image.fromarray(img_b).resize(size))\n",
    "    label = row['dx']\n",
    "    images_and_labels_sub_a.append((resized_img, label))"
   ]
  },
  {
   "cell_type": "code",
   "execution_count": 14,
   "id": "85de45dd",
   "metadata": {},
   "outputs": [
    {
     "name": "stdout",
     "output_type": "stream",
     "text": [
      "Image shape: (2100, 64, 64, 3)\n",
      "Label shape: (2100,)\n"
     ]
    }
   ],
   "source": [
    "# Convert list of tuples to NumPy arrays\n",
    "images_sub_a, labels_sub_a = zip(*images_and_labels_sub_a)\n",
    "images_sub_a = np.array(images_sub_a)\n",
    "labels_sub_a = np.array(labels_sub_a)\n",
    "\n",
    "# Print the shapes of the resulting arrays\n",
    "print('Image shape:', images_sub_a.shape)\n",
    "print('Label shape:', labels_sub_a.shape)"
   ]
  },
  {
   "cell_type": "code",
   "execution_count": 15,
   "id": "2d08c413",
   "metadata": {},
   "outputs": [],
   "source": [
    "label_encoder = LabelEncoder()\n",
    "labels_encoded = label_encoder.fit_transform(labels_sub_a)"
   ]
  },
  {
   "cell_type": "code",
   "execution_count": 16,
   "id": "c64b2983",
   "metadata": {},
   "outputs": [],
   "source": [
    "image_tensor = th.FloatTensor(images_sub_a.astype('float32'))\n",
    "label_tensor = th.FloatTensor(labels_encoded.astype('float32'))"
   ]
  },
  {
   "cell_type": "code",
   "execution_count": 17,
   "id": "4c24f7b2",
   "metadata": {},
   "outputs": [],
   "source": [
    "import torchvision.transforms as transforms\n",
    "from PIL import Image\n",
    "\n",
    "transform_train = transforms.Compose([\n",
    "    transforms.RandomCrop(64, padding=0),    \n",
    "    transforms.RandomHorizontalFlip(),    \n",
    "    transforms.ToTensor(),    \n",
    "    transforms.Normalize(mean=[0.5, 0.5, 0.5], std=[0.5, 0.5, 0.5])\n",
    "])\n",
    "\n",
    "transform_test = transforms.Compose([\n",
    "    transforms.ToTensor(),\n",
    "    transforms.Normalize(mean=[0.5, 0.5, 0.5], std=[0.5, 0.5, 0.5])\n",
    "])\n",
    "\n",
    "# Apply the transformations to the data\n",
    "x_train_transformed = []\n",
    "for img in images_sub_a:\n",
    "    img_pil = Image.fromarray(img)\n",
    "    img_transformed = transform_train(img_pil)\n",
    "    x_train_transformed.append(img_transformed)"
   ]
  },
  {
   "cell_type": "code",
   "execution_count": 18,
   "id": "d9dcfa76",
   "metadata": {},
   "outputs": [],
   "source": [
    "x_train_transformed = torch.stack(x_train_transformed)"
   ]
  },
  {
   "cell_type": "code",
   "execution_count": 19,
   "id": "660c8cb8",
   "metadata": {},
   "outputs": [
    {
     "data": {
      "text/plain": [
       "torch.float32"
      ]
     },
     "execution_count": 19,
     "metadata": {},
     "output_type": "execute_result"
    }
   ],
   "source": [
    "label_tensor.dtype"
   ]
  },
  {
   "cell_type": "code",
   "execution_count": 20,
   "id": "9c694e51",
   "metadata": {},
   "outputs": [],
   "source": [
    "x_train, x_test, y_train, y_test = train_test_split(x_train_transformed, label_tensor, train_size=0.7, random_state=2019)"
   ]
  },
  {
   "cell_type": "code",
   "execution_count": 21,
   "id": "59134ea5",
   "metadata": {},
   "outputs": [],
   "source": [
    "x_train = x_train.tag(\"x_train\")\n",
    "y_train = y_train.tag(\"y_train\")\n",
    "x_test = x_test.tag(\"x_test\")\n",
    "y_test = y_test.tag(\"y_test\")"
   ]
  },
  {
   "cell_type": "code",
   "execution_count": 22,
   "id": "c2e72e39",
   "metadata": {},
   "outputs": [
    {
     "name": "stdout",
     "output_type": "stream",
     "text": [
      "`searchable` is deprecated please use `pointable` in future\n",
      "`searchable` is deprecated please use `pointable` in future`searchable` is deprecated please use `pointable` in future\n",
      "`searchable` is deprecated please use `pointable` in future\n"
     ]
    }
   ],
   "source": [
    "x_train_image = x_train.send(duet, searchable = True)\n",
    "x_test_image = x_test.send(duet, searchable = True)\n",
    "y_train_label = y_train.send(duet, searchable = True)\n",
    "y_test_lable = y_test.send(duet, searchable = True)"
   ]
  },
  {
   "cell_type": "code",
   "execution_count": 23,
   "id": "561d7d9e",
   "metadata": {},
   "outputs": [
    {
     "data": {
      "text/plain": [
       "torch.Size([2100, 64, 64, 3])"
      ]
     },
     "execution_count": 23,
     "metadata": {},
     "output_type": "execute_result"
    }
   ],
   "source": [
    "image_tensor.shape"
   ]
  },
  {
   "cell_type": "code",
   "execution_count": 24,
   "id": "0cd55b93",
   "metadata": {},
   "outputs": [
    {
     "data": {
      "text/html": [
       "<div>\n",
       "<style scoped>\n",
       "    .dataframe tbody tr th:only-of-type {\n",
       "        vertical-align: middle;\n",
       "    }\n",
       "\n",
       "    .dataframe tbody tr th {\n",
       "        vertical-align: top;\n",
       "    }\n",
       "\n",
       "    .dataframe thead th {\n",
       "        text-align: right;\n",
       "    }\n",
       "</style>\n",
       "<table border=\"1\" class=\"dataframe\">\n",
       "  <thead>\n",
       "    <tr style=\"text-align: right;\">\n",
       "      <th></th>\n",
       "      <th>ID</th>\n",
       "      <th>Tags</th>\n",
       "      <th>Description</th>\n",
       "      <th>object_type</th>\n",
       "    </tr>\n",
       "  </thead>\n",
       "  <tbody>\n",
       "    <tr>\n",
       "      <th>0</th>\n",
       "      <td>&lt;UID: a25de6f4c0bf4aacb7f86f5691989e4f&gt;</td>\n",
       "      <td>[x_train]</td>\n",
       "      <td></td>\n",
       "      <td>&lt;class 'torch.Tensor'&gt;</td>\n",
       "    </tr>\n",
       "    <tr>\n",
       "      <th>1</th>\n",
       "      <td>&lt;UID: 1cb819713fc64832bf2464e6e70cc235&gt;</td>\n",
       "      <td>[x_test]</td>\n",
       "      <td></td>\n",
       "      <td>&lt;class 'torch.Tensor'&gt;</td>\n",
       "    </tr>\n",
       "    <tr>\n",
       "      <th>2</th>\n",
       "      <td>&lt;UID: beed35c6837f489182ce57ef8da327ab&gt;</td>\n",
       "      <td>[y_train]</td>\n",
       "      <td></td>\n",
       "      <td>&lt;class 'torch.Tensor'&gt;</td>\n",
       "    </tr>\n",
       "    <tr>\n",
       "      <th>3</th>\n",
       "      <td>&lt;UID: 8f8c2e4bd41a44ea8a1dc5bc5f18ec8f&gt;</td>\n",
       "      <td>[y_test]</td>\n",
       "      <td></td>\n",
       "      <td>&lt;class 'torch.Tensor'&gt;</td>\n",
       "    </tr>\n",
       "  </tbody>\n",
       "</table>\n",
       "</div>"
      ],
      "text/plain": [
       "                                        ID       Tags Description  \\\n",
       "0  <UID: a25de6f4c0bf4aacb7f86f5691989e4f>  [x_train]               \n",
       "1  <UID: 1cb819713fc64832bf2464e6e70cc235>   [x_test]               \n",
       "2  <UID: beed35c6837f489182ce57ef8da327ab>  [y_train]               \n",
       "3  <UID: 8f8c2e4bd41a44ea8a1dc5bc5f18ec8f>   [y_test]               \n",
       "\n",
       "              object_type  \n",
       "0  <class 'torch.Tensor'>  \n",
       "1  <class 'torch.Tensor'>  \n",
       "2  <class 'torch.Tensor'>  \n",
       "3  <class 'torch.Tensor'>  "
      ]
     },
     "execution_count": 24,
     "metadata": {},
     "output_type": "execute_result"
    }
   ],
   "source": [
    "duet.store.pandas"
   ]
  },
  {
   "cell_type": "code",
   "execution_count": 25,
   "id": "e0166c35",
   "metadata": {},
   "outputs": [
    {
     "name": "stderr",
     "output_type": "stream",
     "text": [
      "Exception in callback Transaction.__retry()\n",
      "handle: <TimerHandle when=1094367.406 Transaction.__retry()>\n",
      "Traceback (most recent call last):\n",
      "  File \"C:\\Users\\nazmul_hossen\\anaconda3\\envs\\pysyft1\\lib\\asyncio\\events.py\", line 80, in _run\n",
      "    self._context.run(self._callback, *self._args)\n",
      "  File \"C:\\Users\\nazmul_hossen\\anaconda3\\envs\\pysyft1\\lib\\site-packages\\aioice\\stun.py\", line 306, in __retry\n",
      "    self.__future.set_exception(TransactionTimeout())\n",
      "  File \"C:\\Users\\nazmul_hossen\\anaconda3\\envs\\pysyft1\\lib\\asyncio\\futures.py\", line 270, in set_exception\n",
      "    raise exceptions.InvalidStateError(f'{self._state}: {self!r}')\n",
      "asyncio.exceptions.InvalidStateError: FINISHED: <Future finished result=(Message(messa...03G\\x95\\xdfO'), ('172.16.1.66', 60713))>\n"
     ]
    }
   ],
   "source": [
    "duet.requests.add_handler(action=\"accept\")"
   ]
  }
 ],
 "metadata": {
  "kernelspec": {
   "display_name": "Python 3 (ipykernel)",
   "language": "python",
   "name": "python3"
  },
  "language_info": {
   "codemirror_mode": {
    "name": "ipython",
    "version": 3
   },
   "file_extension": ".py",
   "mimetype": "text/x-python",
   "name": "python",
   "nbconvert_exporter": "python",
   "pygments_lexer": "ipython3",
   "version": "3.9.16"
  }
 },
 "nbformat": 4,
 "nbformat_minor": 5
}
