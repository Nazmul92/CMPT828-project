{
 "cells": [
  {
   "cell_type": "code",
   "execution_count": 1,
   "id": "f781dddd",
   "metadata": {},
   "outputs": [],
   "source": [
    "import syft as sy"
   ]
  },
  {
   "cell_type": "code",
   "execution_count": 2,
   "id": "9563b952",
   "metadata": {},
   "outputs": [
    {
     "name": "stdout",
     "output_type": "stream",
     "text": [
      "🎤  🎸  ♪♪♪ Starting Duet ♫♫♫  🎻  🎹\n",
      "\n",
      "♫♫♫ >\u001b[93m DISCLAIMER\u001b[0m: \u001b[1mDuet is an experimental feature currently in beta.\n",
      "♫♫♫ > Use at your own risk.\n",
      "\u001b[0m\n",
      "\u001b[1m\n",
      "    > ❤️ \u001b[91mLove\u001b[0m \u001b[92mDuet\u001b[0m? \u001b[93mPlease\u001b[0m \u001b[94mconsider\u001b[0m \u001b[95msupporting\u001b[0m \u001b[91mour\u001b[0m \u001b[93mcommunity!\u001b[0m\n",
      "    > https://github.com/sponsors/OpenMined\u001b[1m\n",
      "\n",
      "♫♫♫ > Punching through firewall to OpenGrid Network Node at:\n",
      "♫♫♫ > http://ec2-18-218-7-180.us-east-2.compute.amazonaws.com:5000\n",
      "♫♫♫ >\n",
      "♫♫♫ > ...waiting for response from OpenGrid Network... \n",
      "♫♫♫ > \u001b[92mDONE!\u001b[0m\n",
      "\n",
      "♫♫♫ > \u001b[95mSTEP 1:\u001b[0m Send the following code to your Duet Partner!\n",
      "\n",
      "import syft as sy\n",
      "duet = sy.join_duet(loopback=True)\n",
      "\n",
      "♫♫♫ > Connecting...\n",
      "\n",
      "♫♫♫ > \u001b[92mCONNECTED!\u001b[0m\n",
      "\n",
      "`searchable` is deprecated please use `pointable` in futurees: 1  Request Handlers: 0                                \n",
      "♫♫♫ > DUET LIVE STATUS  -  Objects: 0  Requests: 0   Messages: 23  Request Handlers: 1                                \r"
     ]
    }
   ],
   "source": [
    "duet2 = sy.launch_duet(loopback=True)"
   ]
  },
  {
   "cell_type": "code",
   "execution_count": 3,
   "id": "010cba35",
   "metadata": {},
   "outputs": [],
   "source": [
    "import numpy as np\n",
    "import torch as th\n",
    "import pandas as pd\n",
    "from PIL import Image\n",
    "import imageio.v2 as imageio\n",
    "from mpl_toolkits.mplot3d import Axes3D\n",
    "from sklearn.model_selection import train_test_split\n",
    "from sklearn.preprocessing import LabelEncoder"
   ]
  },
  {
   "cell_type": "code",
   "execution_count": 4,
   "id": "269ea7ee",
   "metadata": {},
   "outputs": [],
   "source": [
    "df =pd.read_csv('HAM10000_metadata.csv')"
   ]
  },
  {
   "cell_type": "code",
   "execution_count": 5,
   "id": "22d4d0d2",
   "metadata": {},
   "outputs": [
    {
     "data": {
      "text/plain": [
       "nv       6705\n",
       "mel      1113\n",
       "bkl      1099\n",
       "bcc       514\n",
       "akiec     327\n",
       "vasc      142\n",
       "df        115\n",
       "Name: dx, dtype: int64"
      ]
     },
     "execution_count": 5,
     "metadata": {},
     "output_type": "execute_result"
    }
   ],
   "source": [
    "df['dx'].value_counts()"
   ]
  },
  {
   "cell_type": "code",
   "execution_count": 6,
   "id": "0f92eb44",
   "metadata": {},
   "outputs": [],
   "source": [
    "target = ['akiec', 'bcc', 'bkl', 'df', 'mel', 'nv', 'vasc']"
   ]
  },
  {
   "cell_type": "code",
   "execution_count": 7,
   "id": "8bcadea0",
   "metadata": {},
   "outputs": [],
   "source": [
    "subset_metadata_a = df.sample(frac=0.2, random_state=42) "
   ]
  },
  {
   "cell_type": "code",
   "execution_count": 8,
   "id": "f0cdb617",
   "metadata": {},
   "outputs": [
    {
     "data": {
      "text/html": [
       "<div>\n",
       "<style scoped>\n",
       "    .dataframe tbody tr th:only-of-type {\n",
       "        vertical-align: middle;\n",
       "    }\n",
       "\n",
       "    .dataframe tbody tr th {\n",
       "        vertical-align: top;\n",
       "    }\n",
       "\n",
       "    .dataframe thead th {\n",
       "        text-align: right;\n",
       "    }\n",
       "</style>\n",
       "<table border=\"1\" class=\"dataframe\">\n",
       "  <thead>\n",
       "    <tr style=\"text-align: right;\">\n",
       "      <th></th>\n",
       "      <th>lesion_id</th>\n",
       "      <th>image_id</th>\n",
       "      <th>dx</th>\n",
       "      <th>dx_type</th>\n",
       "      <th>age</th>\n",
       "      <th>sex</th>\n",
       "      <th>localization</th>\n",
       "    </tr>\n",
       "  </thead>\n",
       "  <tbody>\n",
       "    <tr>\n",
       "      <th>1617</th>\n",
       "      <td>HAM_0007180</td>\n",
       "      <td>ISIC_0033272</td>\n",
       "      <td>mel</td>\n",
       "      <td>histo</td>\n",
       "      <td>65.0</td>\n",
       "      <td>male</td>\n",
       "      <td>face</td>\n",
       "    </tr>\n",
       "    <tr>\n",
       "      <th>8128</th>\n",
       "      <td>HAM_0007195</td>\n",
       "      <td>ISIC_0031923</td>\n",
       "      <td>nv</td>\n",
       "      <td>histo</td>\n",
       "      <td>40.0</td>\n",
       "      <td>female</td>\n",
       "      <td>lower extremity</td>\n",
       "    </tr>\n",
       "    <tr>\n",
       "      <th>2168</th>\n",
       "      <td>HAM_0001835</td>\n",
       "      <td>ISIC_0026652</td>\n",
       "      <td>mel</td>\n",
       "      <td>histo</td>\n",
       "      <td>65.0</td>\n",
       "      <td>male</td>\n",
       "      <td>back</td>\n",
       "    </tr>\n",
       "    <tr>\n",
       "      <th>1090</th>\n",
       "      <td>HAM_0000465</td>\n",
       "      <td>ISIC_0030583</td>\n",
       "      <td>bkl</td>\n",
       "      <td>consensus</td>\n",
       "      <td>35.0</td>\n",
       "      <td>female</td>\n",
       "      <td>trunk</td>\n",
       "    </tr>\n",
       "    <tr>\n",
       "      <th>7754</th>\n",
       "      <td>HAM_0001720</td>\n",
       "      <td>ISIC_0034010</td>\n",
       "      <td>nv</td>\n",
       "      <td>histo</td>\n",
       "      <td>45.0</td>\n",
       "      <td>male</td>\n",
       "      <td>abdomen</td>\n",
       "    </tr>\n",
       "    <tr>\n",
       "      <th>...</th>\n",
       "      <td>...</td>\n",
       "      <td>...</td>\n",
       "      <td>...</td>\n",
       "      <td>...</td>\n",
       "      <td>...</td>\n",
       "      <td>...</td>\n",
       "      <td>...</td>\n",
       "    </tr>\n",
       "    <tr>\n",
       "      <th>1770</th>\n",
       "      <td>HAM_0000375</td>\n",
       "      <td>ISIC_0030238</td>\n",
       "      <td>mel</td>\n",
       "      <td>histo</td>\n",
       "      <td>45.0</td>\n",
       "      <td>male</td>\n",
       "      <td>back</td>\n",
       "    </tr>\n",
       "    <tr>\n",
       "      <th>1888</th>\n",
       "      <td>HAM_0006376</td>\n",
       "      <td>ISIC_0034317</td>\n",
       "      <td>mel</td>\n",
       "      <td>histo</td>\n",
       "      <td>70.0</td>\n",
       "      <td>female</td>\n",
       "      <td>lower extremity</td>\n",
       "    </tr>\n",
       "    <tr>\n",
       "      <th>2020</th>\n",
       "      <td>HAM_0004979</td>\n",
       "      <td>ISIC_0032245</td>\n",
       "      <td>mel</td>\n",
       "      <td>histo</td>\n",
       "      <td>85.0</td>\n",
       "      <td>male</td>\n",
       "      <td>back</td>\n",
       "    </tr>\n",
       "    <tr>\n",
       "      <th>1642</th>\n",
       "      <td>HAM_0005711</td>\n",
       "      <td>ISIC_0033779</td>\n",
       "      <td>mel</td>\n",
       "      <td>histo</td>\n",
       "      <td>35.0</td>\n",
       "      <td>male</td>\n",
       "      <td>back</td>\n",
       "    </tr>\n",
       "    <tr>\n",
       "      <th>4823</th>\n",
       "      <td>HAM_0002337</td>\n",
       "      <td>ISIC_0029949</td>\n",
       "      <td>nv</td>\n",
       "      <td>follow_up</td>\n",
       "      <td>55.0</td>\n",
       "      <td>female</td>\n",
       "      <td>trunk</td>\n",
       "    </tr>\n",
       "  </tbody>\n",
       "</table>\n",
       "<p>2003 rows × 7 columns</p>\n",
       "</div>"
      ],
      "text/plain": [
       "        lesion_id      image_id   dx    dx_type   age     sex     localization\n",
       "1617  HAM_0007180  ISIC_0033272  mel      histo  65.0    male             face\n",
       "8128  HAM_0007195  ISIC_0031923   nv      histo  40.0  female  lower extremity\n",
       "2168  HAM_0001835  ISIC_0026652  mel      histo  65.0    male             back\n",
       "1090  HAM_0000465  ISIC_0030583  bkl  consensus  35.0  female            trunk\n",
       "7754  HAM_0001720  ISIC_0034010   nv      histo  45.0    male          abdomen\n",
       "...           ...           ...  ...        ...   ...     ...              ...\n",
       "1770  HAM_0000375  ISIC_0030238  mel      histo  45.0    male             back\n",
       "1888  HAM_0006376  ISIC_0034317  mel      histo  70.0  female  lower extremity\n",
       "2020  HAM_0004979  ISIC_0032245  mel      histo  85.0    male             back\n",
       "1642  HAM_0005711  ISIC_0033779  mel      histo  35.0    male             back\n",
       "4823  HAM_0002337  ISIC_0029949   nv  follow_up  55.0  female            trunk\n",
       "\n",
       "[2003 rows x 7 columns]"
      ]
     },
     "execution_count": 8,
     "metadata": {},
     "output_type": "execute_result"
    }
   ],
   "source": [
    "subset_metadata_a"
   ]
  },
  {
   "cell_type": "code",
   "execution_count": 9,
   "id": "6b4c54d7",
   "metadata": {},
   "outputs": [],
   "source": [
    "num_samples_per_label_a = 400                                                 ## 200 sample for each class\n",
    "balanced_sub_a = pd.DataFrame()\n",
    "for label in target:\n",
    "    label_metadata_a = subset_metadata_a[subset_metadata_a['dx'] == label]\n",
    "    label_samples_a = label_metadata_a.sample(n=num_samples_per_label_a, random_state=42, replace = True)\n",
    "    balanced_sub_a = pd.concat([balanced_sub_a, label_samples_a])"
   ]
  },
  {
   "cell_type": "code",
   "execution_count": 10,
   "id": "fef46eeb",
   "metadata": {},
   "outputs": [
    {
     "data": {
      "text/html": [
       "<div>\n",
       "<style scoped>\n",
       "    .dataframe tbody tr th:only-of-type {\n",
       "        vertical-align: middle;\n",
       "    }\n",
       "\n",
       "    .dataframe tbody tr th {\n",
       "        vertical-align: top;\n",
       "    }\n",
       "\n",
       "    .dataframe thead th {\n",
       "        text-align: right;\n",
       "    }\n",
       "</style>\n",
       "<table border=\"1\" class=\"dataframe\">\n",
       "  <thead>\n",
       "    <tr style=\"text-align: right;\">\n",
       "      <th></th>\n",
       "      <th>lesion_id</th>\n",
       "      <th>image_id</th>\n",
       "      <th>dx</th>\n",
       "      <th>dx_type</th>\n",
       "      <th>age</th>\n",
       "      <th>sex</th>\n",
       "      <th>localization</th>\n",
       "    </tr>\n",
       "  </thead>\n",
       "  <tbody>\n",
       "    <tr>\n",
       "      <th>9707</th>\n",
       "      <td>HAM_0005931</td>\n",
       "      <td>ISIC_0031191</td>\n",
       "      <td>akiec</td>\n",
       "      <td>histo</td>\n",
       "      <td>60.0</td>\n",
       "      <td>male</td>\n",
       "      <td>lower extremity</td>\n",
       "    </tr>\n",
       "    <tr>\n",
       "      <th>9729</th>\n",
       "      <td>HAM_0007601</td>\n",
       "      <td>ISIC_0032437</td>\n",
       "      <td>akiec</td>\n",
       "      <td>histo</td>\n",
       "      <td>65.0</td>\n",
       "      <td>male</td>\n",
       "      <td>upper extremity</td>\n",
       "    </tr>\n",
       "    <tr>\n",
       "      <th>9924</th>\n",
       "      <td>HAM_0006434</td>\n",
       "      <td>ISIC_0030142</td>\n",
       "      <td>akiec</td>\n",
       "      <td>histo</td>\n",
       "      <td>60.0</td>\n",
       "      <td>male</td>\n",
       "      <td>lower extremity</td>\n",
       "    </tr>\n",
       "    <tr>\n",
       "      <th>9936</th>\n",
       "      <td>HAM_0006887</td>\n",
       "      <td>ISIC_0029500</td>\n",
       "      <td>akiec</td>\n",
       "      <td>histo</td>\n",
       "      <td>45.0</td>\n",
       "      <td>male</td>\n",
       "      <td>face</td>\n",
       "    </tr>\n",
       "    <tr>\n",
       "      <th>9888</th>\n",
       "      <td>HAM_0005231</td>\n",
       "      <td>ISIC_0025247</td>\n",
       "      <td>akiec</td>\n",
       "      <td>histo</td>\n",
       "      <td>70.0</td>\n",
       "      <td>male</td>\n",
       "      <td>lower extremity</td>\n",
       "    </tr>\n",
       "    <tr>\n",
       "      <th>...</th>\n",
       "      <td>...</td>\n",
       "      <td>...</td>\n",
       "      <td>...</td>\n",
       "      <td>...</td>\n",
       "      <td>...</td>\n",
       "      <td>...</td>\n",
       "      <td>...</td>\n",
       "    </tr>\n",
       "    <tr>\n",
       "      <th>2344</th>\n",
       "      <td>HAM_0004455</td>\n",
       "      <td>ISIC_0027385</td>\n",
       "      <td>vasc</td>\n",
       "      <td>histo</td>\n",
       "      <td>20.0</td>\n",
       "      <td>male</td>\n",
       "      <td>trunk</td>\n",
       "    </tr>\n",
       "    <tr>\n",
       "      <th>2453</th>\n",
       "      <td>HAM_0001038</td>\n",
       "      <td>ISIC_0024706</td>\n",
       "      <td>vasc</td>\n",
       "      <td>consensus</td>\n",
       "      <td>50.0</td>\n",
       "      <td>male</td>\n",
       "      <td>trunk</td>\n",
       "    </tr>\n",
       "    <tr>\n",
       "      <th>2406</th>\n",
       "      <td>HAM_0003480</td>\n",
       "      <td>ISIC_0032890</td>\n",
       "      <td>vasc</td>\n",
       "      <td>consensus</td>\n",
       "      <td>70.0</td>\n",
       "      <td>female</td>\n",
       "      <td>lower extremity</td>\n",
       "    </tr>\n",
       "    <tr>\n",
       "      <th>2392</th>\n",
       "      <td>HAM_0006748</td>\n",
       "      <td>ISIC_0027210</td>\n",
       "      <td>vasc</td>\n",
       "      <td>consensus</td>\n",
       "      <td>30.0</td>\n",
       "      <td>female</td>\n",
       "      <td>lower extremity</td>\n",
       "    </tr>\n",
       "    <tr>\n",
       "      <th>2412</th>\n",
       "      <td>HAM_0000934</td>\n",
       "      <td>ISIC_0031706</td>\n",
       "      <td>vasc</td>\n",
       "      <td>consensus</td>\n",
       "      <td>60.0</td>\n",
       "      <td>male</td>\n",
       "      <td>trunk</td>\n",
       "    </tr>\n",
       "  </tbody>\n",
       "</table>\n",
       "<p>2800 rows × 7 columns</p>\n",
       "</div>"
      ],
      "text/plain": [
       "        lesion_id      image_id     dx    dx_type   age     sex  \\\n",
       "9707  HAM_0005931  ISIC_0031191  akiec      histo  60.0    male   \n",
       "9729  HAM_0007601  ISIC_0032437  akiec      histo  65.0    male   \n",
       "9924  HAM_0006434  ISIC_0030142  akiec      histo  60.0    male   \n",
       "9936  HAM_0006887  ISIC_0029500  akiec      histo  45.0    male   \n",
       "9888  HAM_0005231  ISIC_0025247  akiec      histo  70.0    male   \n",
       "...           ...           ...    ...        ...   ...     ...   \n",
       "2344  HAM_0004455  ISIC_0027385   vasc      histo  20.0    male   \n",
       "2453  HAM_0001038  ISIC_0024706   vasc  consensus  50.0    male   \n",
       "2406  HAM_0003480  ISIC_0032890   vasc  consensus  70.0  female   \n",
       "2392  HAM_0006748  ISIC_0027210   vasc  consensus  30.0  female   \n",
       "2412  HAM_0000934  ISIC_0031706   vasc  consensus  60.0    male   \n",
       "\n",
       "         localization  \n",
       "9707  lower extremity  \n",
       "9729  upper extremity  \n",
       "9924  lower extremity  \n",
       "9936             face  \n",
       "9888  lower extremity  \n",
       "...               ...  \n",
       "2344            trunk  \n",
       "2453            trunk  \n",
       "2406  lower extremity  \n",
       "2392  lower extremity  \n",
       "2412            trunk  \n",
       "\n",
       "[2800 rows x 7 columns]"
      ]
     },
     "execution_count": 10,
     "metadata": {},
     "output_type": "execute_result"
    }
   ],
   "source": [
    "balanced_sub_a"
   ]
  },
  {
   "cell_type": "code",
   "execution_count": 11,
   "id": "e52c0bf0",
   "metadata": {},
   "outputs": [],
   "source": [
    "sub_a_class_count = balanced_sub_a['dx'].value_counts()"
   ]
  },
  {
   "cell_type": "code",
   "execution_count": 12,
   "id": "5cf512c0",
   "metadata": {},
   "outputs": [],
   "source": [
    "size = (64, 64)\n",
    "images_sub_a = []\n",
    "for i, row in balanced_sub_a.iterrows():\n",
    "    img_a = imageio.imread('HAM_data//HAM10000/' + row['image_id'] + '.jpg')\n",
    "    resized_img = np.array(Image.fromarray(img_a).resize(size))\n",
    "    images_sub_a.append(resized_img)"
   ]
  },
  {
   "cell_type": "code",
   "execution_count": 13,
   "id": "56f12880",
   "metadata": {},
   "outputs": [],
   "source": [
    "images_and_labels_sub_a = []\n",
    "for i, row in balanced_sub_a.iterrows():\n",
    "    img_b = imageio.imread('HAM_data/HAM10000/' + row['image_id'] + '.jpg')\n",
    "    resized_img = np.array(Image.fromarray(img_b).resize(size))\n",
    "    label = row['dx']\n",
    "    images_and_labels_sub_a.append((resized_img, label))"
   ]
  },
  {
   "cell_type": "code",
   "execution_count": 14,
   "id": "c0789b3b",
   "metadata": {},
   "outputs": [
    {
     "name": "stdout",
     "output_type": "stream",
     "text": [
      "Image shape: (2800, 64, 64, 3)\n",
      "Label shape: (2800,)\n"
     ]
    }
   ],
   "source": [
    "images_sub_a, labels_sub_a = zip(*images_and_labels_sub_a)\n",
    "images_sub_a = np.array(images_sub_a)\n",
    "labels_sub_a = np.array(labels_sub_a)\n",
    "\n",
    "# Print the shapes of the resulting arrays\n",
    "print('Image shape:', images_sub_a.shape)\n",
    "print('Label shape:', labels_sub_a.shape)"
   ]
  },
  {
   "cell_type": "code",
   "execution_count": 15,
   "id": "69d98f96",
   "metadata": {},
   "outputs": [],
   "source": [
    "label_encoder = LabelEncoder()\n",
    "labels_encoded = label_encoder.fit_transform(labels_sub_a)"
   ]
  },
  {
   "cell_type": "code",
   "execution_count": 16,
   "id": "7e4c1000",
   "metadata": {},
   "outputs": [],
   "source": [
    "image_tensor = th.FloatTensor(images_sub_a.astype('float32'))\n",
    "label_tensor = th.FloatTensor(labels_encoded.astype('float32'))"
   ]
  },
  {
   "cell_type": "code",
   "execution_count": 17,
   "id": "ade7123b",
   "metadata": {},
   "outputs": [],
   "source": [
    "import torchvision.transforms as transforms\n",
    "from PIL import Image\n",
    "import torch\n",
    "\n",
    "transform_train = transforms.Compose([\n",
    "    transforms.RandomCrop(64, padding=0),    \n",
    "    transforms.RandomHorizontalFlip(),    \n",
    "    transforms.ToTensor(),    \n",
    "    transforms.Normalize(mean=[0.5, 0.5, 0.5], std=[0.5, 0.5, 0.5])\n",
    "])\n",
    "\n",
    "transform_test = transforms.Compose([\n",
    "    transforms.ToTensor(),\n",
    "    transforms.Normalize(mean=[0.5, 0.5, 0.5], std=[0.5, 0.5, 0.5])\n",
    "])\n",
    "\n",
    "# Apply the transformations to the data\n",
    "x_train_transformed = []\n",
    "for img in images_sub_a:\n",
    "    img_pil = Image.fromarray(img)\n",
    "    img_transformed = transform_train(img_pil)\n",
    "    x_train_transformed.append(img_transformed)"
   ]
  },
  {
   "cell_type": "code",
   "execution_count": 18,
   "id": "52aabf73",
   "metadata": {},
   "outputs": [],
   "source": [
    "x_train_transformed = torch.stack(x_train_transformed)"
   ]
  },
  {
   "cell_type": "code",
   "execution_count": 19,
   "id": "00149cc8",
   "metadata": {},
   "outputs": [],
   "source": [
    "x_train, x_test, y_train, y_test = train_test_split(x_train_transformed, label_tensor, train_size=0.7, random_state=2019)"
   ]
  },
  {
   "cell_type": "code",
   "execution_count": 20,
   "id": "24f27b88",
   "metadata": {},
   "outputs": [],
   "source": [
    "x_train = x_train.tag(\"worker2 (x_train)\")\n",
    "y_train = y_train.tag(\"worker2 (y_train)\")\n",
    "x_test = x_test.tag(\"worker2 (x_test)\")\n",
    "y_test = y_test.tag(\"worker2 (y_test)\")"
   ]
  },
  {
   "cell_type": "code",
   "execution_count": 21,
   "id": "66f55800",
   "metadata": {},
   "outputs": [
    {
     "name": "stdout",
     "output_type": "stream",
     "text": [
      "`searchable` is deprecated please use `pointable` in future\n",
      "`searchable` is deprecated please use `pointable` in future\n",
      "`searchable` is deprecated please use `pointable` in future\n"
     ]
    }
   ],
   "source": [
    "x_train_image = x_train.send(duet2, searchable = True)\n",
    "x_test_image = x_test.send(duet2, searchable = True)\n",
    "y_train_label = y_train.send(duet2, searchable = True)\n",
    "y_test_lable = y_test.send(duet2, searchable = True)"
   ]
  },
  {
   "cell_type": "code",
   "execution_count": 22,
   "id": "278f88d2",
   "metadata": {},
   "outputs": [
    {
     "data": {
      "text/html": [
       "<div>\n",
       "<style scoped>\n",
       "    .dataframe tbody tr th:only-of-type {\n",
       "        vertical-align: middle;\n",
       "    }\n",
       "\n",
       "    .dataframe tbody tr th {\n",
       "        vertical-align: top;\n",
       "    }\n",
       "\n",
       "    .dataframe thead th {\n",
       "        text-align: right;\n",
       "    }\n",
       "</style>\n",
       "<table border=\"1\" class=\"dataframe\">\n",
       "  <thead>\n",
       "    <tr style=\"text-align: right;\">\n",
       "      <th></th>\n",
       "      <th>ID</th>\n",
       "      <th>Tags</th>\n",
       "      <th>Description</th>\n",
       "      <th>object_type</th>\n",
       "    </tr>\n",
       "  </thead>\n",
       "  <tbody>\n",
       "    <tr>\n",
       "      <th>0</th>\n",
       "      <td>&lt;UID: a900d928059e400bb5ce0f1a5e9e94a2&gt;</td>\n",
       "      <td>[worker2 (x_train)]</td>\n",
       "      <td></td>\n",
       "      <td>&lt;class 'torch.Tensor'&gt;</td>\n",
       "    </tr>\n",
       "    <tr>\n",
       "      <th>1</th>\n",
       "      <td>&lt;UID: 2e36cefae90347ff98240428d9f27279&gt;</td>\n",
       "      <td>[worker2 (x_test)]</td>\n",
       "      <td></td>\n",
       "      <td>&lt;class 'torch.Tensor'&gt;</td>\n",
       "    </tr>\n",
       "    <tr>\n",
       "      <th>2</th>\n",
       "      <td>&lt;UID: ccadcf7028474e179308596704008f2c&gt;</td>\n",
       "      <td>[worker2 (y_train)]</td>\n",
       "      <td></td>\n",
       "      <td>&lt;class 'torch.Tensor'&gt;</td>\n",
       "    </tr>\n",
       "    <tr>\n",
       "      <th>3</th>\n",
       "      <td>&lt;UID: 409e7313ff48483da8d36516f39a6d84&gt;</td>\n",
       "      <td>[worker2 (y_test)]</td>\n",
       "      <td></td>\n",
       "      <td>&lt;class 'torch.Tensor'&gt;</td>\n",
       "    </tr>\n",
       "  </tbody>\n",
       "</table>\n",
       "</div>"
      ],
      "text/plain": [
       "                                        ID                 Tags Description  \\\n",
       "0  <UID: a900d928059e400bb5ce0f1a5e9e94a2>  [worker2 (x_train)]               \n",
       "1  <UID: 2e36cefae90347ff98240428d9f27279>   [worker2 (x_test)]               \n",
       "2  <UID: ccadcf7028474e179308596704008f2c>  [worker2 (y_train)]               \n",
       "3  <UID: 409e7313ff48483da8d36516f39a6d84>   [worker2 (y_test)]               \n",
       "\n",
       "              object_type  \n",
       "0  <class 'torch.Tensor'>  \n",
       "1  <class 'torch.Tensor'>  \n",
       "2  <class 'torch.Tensor'>  \n",
       "3  <class 'torch.Tensor'>  "
      ]
     },
     "execution_count": 22,
     "metadata": {},
     "output_type": "execute_result"
    }
   ],
   "source": [
    "duet2.store.pandas"
   ]
  },
  {
   "cell_type": "code",
   "execution_count": 23,
   "id": "03102570",
   "metadata": {},
   "outputs": [],
   "source": [
    "duet2.requests.add_handler(action=\"accept\")"
   ]
  },
  {
   "cell_type": "code",
   "execution_count": null,
   "id": "78f4a9f9",
   "metadata": {},
   "outputs": [],
   "source": []
  }
 ],
 "metadata": {
  "kernelspec": {
   "display_name": "Python 3 (ipykernel)",
   "language": "python",
   "name": "python3"
  },
  "language_info": {
   "codemirror_mode": {
    "name": "ipython",
    "version": 3
   },
   "file_extension": ".py",
   "mimetype": "text/x-python",
   "name": "python",
   "nbconvert_exporter": "python",
   "pygments_lexer": "ipython3",
   "version": "3.9.16"
  }
 },
 "nbformat": 4,
 "nbformat_minor": 5
}
